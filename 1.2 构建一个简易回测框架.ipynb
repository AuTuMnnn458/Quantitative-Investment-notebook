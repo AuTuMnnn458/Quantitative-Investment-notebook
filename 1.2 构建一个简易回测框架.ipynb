{
 "cells": [
  {
   "cell_type": "markdown",
   "id": "aa5bf674",
   "metadata": {},
   "source": [
    "# 构建一个简易回测框架\n",
    "\n",
    "本文的回测框架主要包括：\n",
    "* 1.从网络等源下载股票数据到本地(或服务器)。\n",
    "* 2.构建上下文数据类。储存用户信息，包括持有仓位情况，cash等。\n",
    "* 3.获取历史数据。这一步在本文中转换为从本地数据中提取一定时间区间的股票信息。\n",
    "* 4.下单函数。构建一个类，让策略在买卖点处对股票进行下单并对应计算仓位，储存收益信息等等。\n",
    "* 5.回测。使用策略对股票进行回测。"
   ]
  },
  {
   "cell_type": "markdown",
   "id": "db63de54",
   "metadata": {},
   "source": [
    "# 1.下载股票数据\n",
    "本文这里使用baostock包，下载近5年的股票日线数据到本地。由于本地储存能力有限，只选择部分股票的近5年数据，即2018.01.01到2023.01.01的数据。\n",
    "\n",
    "⭐在编写本文时同时也尝试了其他平台/方式下载股票数据，但是失效的居多，或参数被重新调整，或下载的数据需要重新清洗。baostock包于2023年5月仍然能下载且数据较为干净。\n",
    "\n",
    "📕 baostock数据的获取 http://baostock.com/baostock/index.php/A%E8%82%A1K%E7%BA%BF%E6%95%B0%E6%8D%AE"
   ]
  },
  {
   "cell_type": "code",
   "execution_count": 1,
   "id": "56c00612",
   "metadata": {},
   "outputs": [],
   "source": [
    "import baostock as bs\n",
    "import pandas as pd"
   ]
  },
  {
   "cell_type": "code",
   "execution_count": 2,
   "id": "3e12b256",
   "metadata": {
    "code_folding": [
     2,
     9,
     57
    ]
   },
   "outputs": [],
   "source": [
    "class Get_data_from_baostock:\n",
    "    \n",
    "    def __init__(self, stock, start_date, end_date, freq, adjustflag):\n",
    "        self.stock = stock\n",
    "        self.start_date = start_date\n",
    "        self.end_date = end_date\n",
    "        self.freq = freq\n",
    "        self.adjustflag = adjustflag\n",
    "    \n",
    "    def download_data_from_baostock(self):\n",
    "        lg = bs.login()\n",
    "        if str(self.stock)[0] == '6':\n",
    "            stock_name = 'sh.' + str(self.stock)\n",
    "        else:\n",
    "            stock_name = 'sz.' + str(self.stock)\n",
    "        \n",
    "        if self.freq in ['d', 'w', 'm']:\n",
    "            fields = \"date,code,open,high,low,close,preclose,volume,amount,adjustflag,turn,tradestatus,pctChg,isST\"\n",
    "        else:\n",
    "            fields = \"date,time,code,open,high,low,close,volume,amount,adjustflag\"\n",
    "        \n",
    "        rs = bs.query_history_k_data_plus(stock_name,\n",
    "                                      fields,\n",
    "                                      start_date = self.start_date, \n",
    "                                      end_date = self.end_date,\n",
    "                                      frequency = str(self.freq), \n",
    "                                      adjustflag = str(self.adjustflag) # 2是前复权\n",
    "                                     )\n",
    "        bs.logout()\n",
    "        \n",
    "        df = pd.DataFrame(rs.data)\n",
    "        df.columns = fields.split(',')\n",
    "         \n",
    "        df['open'] = [float(t) for t in df['open']]\n",
    "        df['close'] = [float(t) for t in df['close']]\n",
    "        df['high'] = [float(t) for t in df['high']]\n",
    "        df['low'] = [float(t) for t in df['low']]  \n",
    "        df['amount'] = [float(t) for t in df['amount']]\n",
    "        df['volume'] = [float(t) for t in df['volume']]\n",
    "        \n",
    "        \n",
    "        if self.freq in ['5','15','30','60']:\n",
    "            df['time'] = [t[:-3] for t in df['time']] # 把毫秒去掉，否则int太长了无法转化为datatime格式\n",
    "            df['time'] = pd.to_datetime(df['time'])\n",
    "            df = df.loc[:, ['time','open','high','low','close','amount','volume']]\n",
    "            df.rename(columns = {'time':'datetime'},inplace = True)\n",
    "            df.set_index('datetime', drop=True, inplace = True) # 用时间作为index\n",
    "        elif self.freq in ['d', 'w', 'm']:\n",
    "            # df = df.loc[:, ['date','open','high','low','close','amount','volume']]\n",
    "            df['date'] = pd.to_datetime(df['date'])\n",
    "            df.rename(columns = {'date':'datetime'},inplace = True)\n",
    "            df.set_index('datetime', drop=True, inplace = True) # 用时间作为index\n",
    "        else:\n",
    "            print('k线时间输入错误')\n",
    "        \n",
    "        self.df = df\n",
    "    \n",
    "    def save_baostock_data_to_local(self,address):\n",
    "        self.df.to_csv(address + '%s_%s.csv' % (self.stock,self.freq))\n",
    "        print('文件已保存到'+ address + '%s_%s.csv' % (self.stock,self.freq))"
   ]
  },
  {
   "cell_type": "code",
   "execution_count": 3,
   "id": "6270737f",
   "metadata": {},
   "outputs": [
    {
     "name": "stdout",
     "output_type": "stream",
     "text": [
      "login success!\n",
      "logout success!\n",
      "文件已保存到E:/data/stock_data/603019_d.csv\n"
     ]
    }
   ],
   "source": [
    "GD = Get_data_from_baostock('603019','2015-01-01','2023-01-01','d','2')\n",
    "data = GD.download_data_from_baostock()\n",
    "address = 'E:/data/stock_data/'\n",
    "GD.save_baostock_data_to_local(address)"
   ]
  },
  {
   "cell_type": "code",
   "execution_count": 4,
   "id": "87ef6ab7",
   "metadata": {},
   "outputs": [
    {
     "name": "stdout",
     "output_type": "stream",
     "text": [
      "login success!\n",
      "logout success!\n",
      "文件已保存到E:/data/stock_data/600036_d.csv\n"
     ]
    }
   ],
   "source": [
    "GD2 = Get_data_from_baostock('600036','2018-01-01','2023-01-01','d','2')\n",
    "data2 = GD2.download_data_from_baostock()\n",
    "address = 'E:/data/stock_data/'\n",
    "GD2.save_baostock_data_to_local(address)"
   ]
  },
  {
   "cell_type": "markdown",
   "id": "23622b7f",
   "metadata": {},
   "source": [
    "# 2.构建上下文数据类\n",
    "创建一个context类，用于储存用户的cash，开始时间，结束时间等等信息。\n",
    "\n",
    "* attribute_history函数:用户传入股票security，往回的count天，可以得到该股票距离今天count天的历史数据。\n",
    "\n",
    "* attribute_daterange_history函数:用户传入股票security，一个时间区间[start_date, end_date]，得到这股票在这时间区间的历史数据。\n",
    "\n",
    "以上获取的数据都是在开盘日的数据。"
   ]
  },
  {
   "cell_type": "code",
   "execution_count": 5,
   "id": "a50dfe7c",
   "metadata": {},
   "outputs": [],
   "source": [
    "class Context:\n",
    "    \n",
    "    def __init__(self, cash, start_date, end_date):\n",
    "        self.cash = cash\n",
    "        self.start_date = start_date\n",
    "        self.end_date = end_date\n",
    "        self.positions = {'603019':0}  # 持仓信息，存在字典里\n",
    "        self.benchmark = None # 基准股票\n",
    "        self.dt = None"
   ]
  },
  {
   "cell_type": "code",
   "execution_count": 6,
   "id": "beec4f5c",
   "metadata": {},
   "outputs": [],
   "source": [
    "class G:\n",
    "    pass\n",
    "\n",
    "g = G()\n",
    "# 建立一个全局对象，可以随时创建属性"
   ]
  },
  {
   "cell_type": "code",
   "execution_count": 7,
   "id": "38071b5c",
   "metadata": {},
   "outputs": [],
   "source": [
    "def set_benchmark(security): # 只支持一只股票作为基准股票\n",
    "    context.benchmark = security"
   ]
  },
  {
   "cell_type": "code",
   "execution_count": 8,
   "id": "f2403470",
   "metadata": {},
   "outputs": [],
   "source": [
    "CASH = 100000\n",
    "START_DATE = '2018-01-01'\n",
    "END_DATE = '2022-01-01'\n",
    "context = Context(CASH, START_DATE, END_DATE)"
   ]
  },
  {
   "cell_type": "markdown",
   "id": "9d757fb5",
   "metadata": {},
   "source": [
    "# 3.获取历史数据\n",
    "* attribute_history函数：获取距离今天前count天的历史数据\n",
    "* attribute_daterange_history函数：获取一段时间区间内的历史数据"
   ]
  },
  {
   "cell_type": "code",
   "execution_count": 9,
   "id": "5be07f53",
   "metadata": {
    "code_folding": []
   },
   "outputs": [],
   "source": [
    "import dateutil\n",
    "import datetime\n",
    "\n",
    "def attribute_history(security, count, fields =('open', 'close', 'high', 'low', 'volume')):\n",
    "    try:\n",
    "        data = pd.read_csv( 'E:/data/stock_data/' + security + '_d.csv')\n",
    "        today = datetime.datetime.now().strftime(\"%Y-%m-%d\")\n",
    "        end_date = pd.to_datetime(today) - datetime.timedelta(days = 1)\n",
    "        start_date = pd.to_datetime(today) - datetime.timedelta(days = count)\n",
    "        return attribute_daterange_history(security, start_date, end_date, fields)\n",
    "    except FileNotFoundError:\n",
    "        return print('无%s的股票数据，请去下载。' %security)\n",
    "\n",
    "def attribute_daterange_history(security, start_date, end_date, fields=('open', 'close', 'high', 'low', 'volume')):\n",
    "    try:\n",
    "        data = pd.read_csv( 'E:/data/stock_data/' + security + '_d.csv')\n",
    "        start_date = pd.to_datetime(start_date)\n",
    "        end_date = pd.to_datetime(end_date)\n",
    "        data['datetime'] = pd.to_datetime(data['datetime'])\n",
    "        data1 = data.loc[data['datetime'] >= start_date]\n",
    "        data2 = data1.loc[data1['datetime'] <= end_date]\n",
    "        data2.set_index('datetime', drop=True, inplace = True)\n",
    "        return data2[list(fields)]        \n",
    "    except FileNotFoundError:\n",
    "        return print('无%s的股票数据，请去下载。' %security)"
   ]
  },
  {
   "cell_type": "code",
   "execution_count": 10,
   "id": "75488e81",
   "metadata": {},
   "outputs": [
    {
     "data": {
      "text/html": [
       "<div>\n",
       "<style scoped>\n",
       "    .dataframe tbody tr th:only-of-type {\n",
       "        vertical-align: middle;\n",
       "    }\n",
       "\n",
       "    .dataframe tbody tr th {\n",
       "        vertical-align: top;\n",
       "    }\n",
       "\n",
       "    .dataframe thead th {\n",
       "        text-align: right;\n",
       "    }\n",
       "</style>\n",
       "<table border=\"1\" class=\"dataframe\">\n",
       "  <thead>\n",
       "    <tr style=\"text-align: right;\">\n",
       "      <th></th>\n",
       "      <th>open</th>\n",
       "      <th>close</th>\n",
       "      <th>high</th>\n",
       "      <th>low</th>\n",
       "      <th>volume</th>\n",
       "    </tr>\n",
       "    <tr>\n",
       "      <th>datetime</th>\n",
       "      <th></th>\n",
       "      <th></th>\n",
       "      <th></th>\n",
       "      <th></th>\n",
       "      <th></th>\n",
       "    </tr>\n",
       "  </thead>\n",
       "  <tbody>\n",
       "    <tr>\n",
       "      <th>2018-01-02</th>\n",
       "      <td>20.445622</td>\n",
       "      <td>20.460645</td>\n",
       "      <td>20.685983</td>\n",
       "      <td>19.934857</td>\n",
       "      <td>16014428.0</td>\n",
       "    </tr>\n",
       "    <tr>\n",
       "      <th>2018-01-03</th>\n",
       "      <td>20.525742</td>\n",
       "      <td>21.336958</td>\n",
       "      <td>21.351980</td>\n",
       "      <td>20.285383</td>\n",
       "      <td>26750010.0</td>\n",
       "    </tr>\n",
       "    <tr>\n",
       "      <th>2018-01-04</th>\n",
       "      <td>21.291890</td>\n",
       "      <td>21.321935</td>\n",
       "      <td>21.547272</td>\n",
       "      <td>21.106613</td>\n",
       "      <td>21343614.0</td>\n",
       "    </tr>\n",
       "    <tr>\n",
       "      <th>2018-01-05</th>\n",
       "      <td>21.532250</td>\n",
       "      <td>21.326943</td>\n",
       "      <td>22.463645</td>\n",
       "      <td>21.291890</td>\n",
       "      <td>26255059.0</td>\n",
       "    </tr>\n",
       "    <tr>\n",
       "      <th>2018-01-08</th>\n",
       "      <td>21.031500</td>\n",
       "      <td>20.711020</td>\n",
       "      <td>21.126642</td>\n",
       "      <td>20.375518</td>\n",
       "      <td>18983745.0</td>\n",
       "    </tr>\n",
       "  </tbody>\n",
       "</table>\n",
       "</div>"
      ],
      "text/plain": [
       "                 open      close       high        low      volume\n",
       "datetime                                                          \n",
       "2018-01-02  20.445622  20.460645  20.685983  19.934857  16014428.0\n",
       "2018-01-03  20.525742  21.336958  21.351980  20.285383  26750010.0\n",
       "2018-01-04  21.291890  21.321935  21.547272  21.106613  21343614.0\n",
       "2018-01-05  21.532250  21.326943  22.463645  21.291890  26255059.0\n",
       "2018-01-08  21.031500  20.711020  21.126642  20.375518  18983745.0"
      ]
     },
     "execution_count": 10,
     "metadata": {},
     "output_type": "execute_result"
    }
   ],
   "source": [
    "# data = attribute_daterange_history('603019','20180101','20230101')\n",
    "data = attribute_daterange_history('603019',START_DATE,END_DATE)\n",
    "data.head()"
   ]
  },
  {
   "cell_type": "markdown",
   "id": "1a22184b",
   "metadata": {},
   "source": [
    "# 4.下单函数"
   ]
  },
  {
   "cell_type": "code",
   "execution_count": 11,
   "id": "252cc67d",
   "metadata": {},
   "outputs": [],
   "source": [
    "# CASH = 10000\n",
    "# START_DATE = '2018-01-01'\n",
    "# END_DATE = '2023-01-01'"
   ]
  },
  {
   "cell_type": "code",
   "execution_count": 12,
   "id": "bb25b44a",
   "metadata": {},
   "outputs": [],
   "source": [
    "def get_today_data(security):\n",
    "    # today = context.dt.strftime('%Y-%m-%d')\n",
    "    today = pd.to_datetime(context.dt)\n",
    "    price = data.loc[today,:]\n",
    "    return price"
   ]
  },
  {
   "cell_type": "code",
   "execution_count": 13,
   "id": "f30a4f24",
   "metadata": {},
   "outputs": [],
   "source": [
    "def _order(today_data, security, amount):\n",
    "    p = today_data['open']\n",
    "    \n",
    "    if context.cash - amount * p < 0:\n",
    "        amount = int(context.cash/p)\n",
    "        print('现金不足，已调整为%d' %amount)\n",
    "    \n",
    "    if amount %100 != 0:\n",
    "        if amount != -context.positions.get(security,0):\n",
    "            amount = int(amount/100) * 100\n",
    "            print('不是100的倍数，已调整为%d' %amount)\n",
    "    \n",
    "    if context.positions.get(security,0) <-amount:\n",
    "        amount = -context.positions.get(security,0)\n",
    "        print('卖出股票不能超过持仓数，已调整为%d' %amount)\n",
    "    \n",
    "    context.positions[security] = context.positions.get(security,0) + amount\n",
    "    context.cash -= amount * p\n",
    "    \n",
    "    if context.positions[security] == 0:\n",
    "        del context.positions[security]"
   ]
  },
  {
   "cell_type": "code",
   "execution_count": 14,
   "id": "6e0e827c",
   "metadata": {},
   "outputs": [],
   "source": [
    "# _order(get_today_data('601319'),'601319',100)\n",
    "# print(context.positions)"
   ]
  },
  {
   "cell_type": "code",
   "execution_count": 15,
   "id": "cb9732b5",
   "metadata": {},
   "outputs": [],
   "source": [
    "# _order(get_today_data('601319'),'601319',-200)\n",
    "# print(context.positions)"
   ]
  },
  {
   "cell_type": "markdown",
   "id": "2e9244d7",
   "metadata": {},
   "source": [
    "用_order函数作为底层函数，封装下面4个函数：\n",
    "* order函数：输入股票和买的数量即可。\n",
    "* order_target函数：输入股票和目标买到的股票数量。如目前持仓100，想达到持仓300。\n",
    "* order_value函数：输入股票和买多少钱的股票。如想购入1000块钱的该股票。\n",
    "* order_target_value函数：这里的target_value指的是买到多少股值。如目前股值3块，目标买到5块。"
   ]
  },
  {
   "cell_type": "code",
   "execution_count": 16,
   "id": "261a7ee3",
   "metadata": {
    "code_folding": []
   },
   "outputs": [],
   "source": [
    "def order(security, amount):\n",
    "    today_data = get_today_data(security)\n",
    "    _order(today_data, security, amount)\n",
    "\n",
    "def order_target(security, amount):\n",
    "    if amount<0:\n",
    "        print('数量不能为负，已调整为0')\n",
    "        amount = 0\n",
    "    \n",
    "    today_data = get_today_data(security)\n",
    "    hold_amount = context.positions.get(security,0)\n",
    "    delta_amount = amount - hold_amount\n",
    "    _order(today_data, security, delta_amount)\n",
    "\n",
    "def order_value(security, value):\n",
    "    today_data = get_today_data(security)\n",
    "    amount = int(value/today_data['open'])\n",
    "    _order(today_data, security, amount)\n",
    "    \n",
    "def order_target_value(security, value):\n",
    "    today_data = get_today_data(security)\n",
    "    if value<0:\n",
    "        print('价值不能为负，已调整为0')\n",
    "        value = 0\n",
    "    \n",
    "    hold_value = context.positions.get(security,0)* today_data['open']\n",
    "    delta_value = value - hold_value\n",
    "    order_value(security, delta_value)"
   ]
  },
  {
   "cell_type": "code",
   "execution_count": 18,
   "id": "48d769da",
   "metadata": {},
   "outputs": [],
   "source": [
    "#order('603019',100)\n",
    "#context.positions"
   ]
  },
  {
   "cell_type": "code",
   "execution_count": 19,
   "id": "eb18e906",
   "metadata": {},
   "outputs": [],
   "source": [
    "# order_target('601319',200)\n",
    "# order_target_value('601319',1000)\n",
    "# context.positions"
   ]
  },
  {
   "cell_type": "markdown",
   "id": "1b61506d",
   "metadata": {},
   "source": [
    "# 5.回测"
   ]
  },
  {
   "cell_type": "code",
   "execution_count": 27,
   "id": "1c5e5678",
   "metadata": {},
   "outputs": [],
   "source": [
    "from matplotlib import pyplot as plt\n",
    "\n",
    "def run():\n",
    "    init_value = context.cash\n",
    "    initialize(context)\n",
    "    date_range = attribute_daterange_history(g.security,context.start_date, context.end_date).index \n",
    "    plt_df = pd.DataFrame(index=date_range,columns=['value'])\n",
    "    for dt in date_range:\n",
    "        context.dt = dt\n",
    "        handle_data(context)\n",
    "        value = context.cash\n",
    "        for stock in context.positions:\n",
    "            today_data = get_today_data(stock)\n",
    "            p = today_data['open']\n",
    "            value += p * context.positions[stock]\n",
    "        plt_df.loc[dt, 'value'] = value\n",
    "    plt_df['ratio'] = (plt_df['value'] - init_value)/init_value\n",
    "    \n",
    "    bm_df = attribute_daterange_history(context.benchmark, context.start_date, context.end_date)\n",
    "    bm_init = bm_df['open'][0]\n",
    "    plt_df['benchmark_ratio'] = (bm_df['open'] - bm_init)/bm_init\n",
    "    \n",
    "    plt_df[['ratio', 'benchmark_ratio']].plot()\n",
    "    # plt_df['ratio'].plot()\n",
    "    # plt_df['benchmark_ratio'].plot()\n",
    "    plt.show()\n"
   ]
  },
  {
   "cell_type": "markdown",
   "id": "0113f295",
   "metadata": {},
   "source": [
    "⭐模拟平台中用户调用函数和类来编写策略和回测。这里使用的是双均线策略:金叉全部买入，死叉全部卖出，对603019股票在2020-01-01到2021-01-01期间进行收益率回测，初始现金为100000。"
   ]
  },
  {
   "cell_type": "code",
   "execution_count": 28,
   "id": "3f8c58ca",
   "metadata": {},
   "outputs": [],
   "source": [
    "def initialize(context):\n",
    "    set_benchmark('603019')\n",
    "    g.p1 = 5\n",
    "    g.p2 = 30\n",
    "    g.security = '603019'\n",
    "    \n",
    "def handle_data(context):\n",
    "    hist = attribute_history(g.security, g.p2)\n",
    "    ma5 = hist['close'][-g.p1:].mean()\n",
    "    ma30 = hist['close'].mean()\n",
    "    \n",
    "    if ma5 > ma30 and g.security not in context.positions:\n",
    "        order_value(g.security, context.cash)\n",
    "    elif ma5 < ma30  and g.security in context.positions:\n",
    "        order_target(g.security,0)"
   ]
  },
  {
   "cell_type": "code",
   "execution_count": 29,
   "id": "88e7be0f",
   "metadata": {},
   "outputs": [
    {
     "data": {
      "image/png": "[encoded data removed]",
      "text/plain": [
       "<Figure size 640x480 with 1 Axes>"
      ]
     },
     "metadata": {},
     "output_type": "display_data"
    }
   ],
   "source": [
    "run()"
   ]
  },
  {
   "cell_type": "code",
   "execution_count": null,
   "id": "19d4864d",
   "metadata": {},
   "outputs": [],
   "source": []
  }
 ],
 "metadata": {
  "kernelspec": {
   "display_name": "py3.10",
   "language": "python",
   "name": "py3.10"
  },
  "language_info": {
   "codemirror_mode": {
    "name": "ipython",
    "version": 3
   },
   "file_extension": ".py",
   "mimetype": "text/x-python",
   "name": "python",
   "nbconvert_exporter": "python",
   "pygments_lexer": "ipython3",
   "version": "3.10.10"
  },
  "nbTranslate": {
   "displayLangs": [
    "*"
   ],
   "hotkey": "alt-t",
   "langInMainMenu": true,
   "sourceLang": "en",
   "targetLang": "fr",
   "useGoogleTranslate": true
  }
 },
 "nbformat": 4,
 "nbformat_minor": 5
}
