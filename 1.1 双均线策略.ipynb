{
 "cells": [
  {
   "cell_type": "markdown",
   "id": "b0551862",
   "metadata": {},
   "source": [
    "# 双均线策略\n",
    "本文主要介绍使用双均线策略对股票代号为600036的股票进行买入/卖出。步骤如下：\n",
    "* 1.从Baostock上下载数据，清洗数据并存入本地\n",
    "* 2.编写双均线策略\n",
    "* 3.使用策略进行回测\n",
    "\n",
    "### 参考：\n",
    "* baostock数据的获取 http://baostock.com/baostock/index.php/A%E8%82%A1K%E7%BA%BF%E6%95%B0%E6%8D%AE\n",
    "* 算法教学 (1).https://www.bilibili.com/video/BV1da4y1H7WL\n",
    "* (2).https://www.bilibili.com/video/BV1i741147LS"
   ]
  },
  {
   "cell_type": "markdown",
   "id": "bb3acabe",
   "metadata": {},
   "source": [
    "# 1.数据预处理"
   ]
  },
  {
   "cell_type": "code",
   "execution_count": 39,
   "id": "99b64654",
   "metadata": {
    "scrolled": true
   },
   "outputs": [],
   "source": [
    "import baostock as bs\n",
    "import pandas as pd"
   ]
  },
  {
   "cell_type": "code",
   "execution_count": 40,
   "id": "e262b235",
   "metadata": {},
   "outputs": [],
   "source": [
    "class Get_data_from_baostock:\n",
    "    \n",
    "    def __init__(self, stock, start_date, end_date, freq, adjustflag):\n",
    "        self.stock = stock\n",
    "        self.start_date = start_date\n",
    "        self.end_date = end_date\n",
    "        self.freq = freq\n",
    "        self.adjustflag = adjustflag\n",
    "    \n",
    "    def download_data_from_baostock(self):\n",
    "        lg = bs.login()\n",
    "        if str(self.stock)[0] == '6':\n",
    "            stock_name = 'sh.' + str(self.stock)\n",
    "        else:\n",
    "            stock_name = 'sz.' + str(self.stock)\n",
    "        \n",
    "        if self.freq in ['d', 'w', 'm']:\n",
    "            fields = \"date,code,open,high,low,close,preclose,volume,amount,adjustflag,turn,tradestatus,pctChg,isST\"\n",
    "        else:\n",
    "            fields = \"date,time,code,open,high,low,close,volume,amount,adjustflag\"\n",
    "        \n",
    "        rs = bs.query_history_k_data_plus(stock_name,\n",
    "                                      fields,\n",
    "                                      start_date = self.start_date, \n",
    "                                      end_date = self.end_date,\n",
    "                                      frequency = str(self.freq), \n",
    "                                      adjustflag = str(self.adjustflag) # 2是前复权\n",
    "                                     )\n",
    "        bs.logout()\n",
    "        \n",
    "        df = pd.DataFrame(rs.data)\n",
    "        df.columns = fields.split(',')\n",
    "        \n",
    "        df['open'] = [float(t) for t in df['open']]\n",
    "        df['close'] = [float(t) for t in df['close']]\n",
    "        df['high'] = [float(t) for t in df['high']]\n",
    "        df['low'] = [float(t) for t in df['low']]  \n",
    "        df['amount'] = [float(t) for t in df['amount']]\n",
    "        df['volume'] = [float(t) for t in df['volume']]\n",
    "        \n",
    "        \n",
    "        if self.freq in ['5','15','30','60']:\n",
    "            df['time'] = [t[:-3] for t in df['time']] # 把毫秒去掉，否则int太长了无法转化为datatime格式\n",
    "            df['time'] = pd.to_datetime(df['time'])\n",
    "            df = df.loc[:, ['time','open','high','low','close','amount','volume']]\n",
    "            df.rename(columns = {'time':'datetime'},inplace = True)\n",
    "            df.set_index('datetime', drop=True, inplace = True) # 用时间作为index\n",
    "        elif self.freq in ['d', 'w', 'm']:\n",
    "            df = df.loc[:, ['date','open','high','low','close','amount','volume']]\n",
    "            df['date'] = pd.to_datetime(df['date'])\n",
    "            df.rename(columns = {'date':'datetime'},inplace = True)\n",
    "            df.set_index('datetime', drop=True, inplace = True) # 用时间作为index\n",
    "        else:\n",
    "            print('k线时间输入错误')\n",
    "            \n",
    "        self.df = df\n",
    "        return df\n",
    "    \n",
    "    def save_baostock_data_to_local(self,address):\n",
    "        self.df.to_csv(address + '%s_%s.csv' % (self.stock,self.freq))\n",
    "        print('文件已保存到'+ address + '%s_%s.csv' % (self.stock,self.freq))\n",
    "        "
   ]
  },
  {
   "cell_type": "code",
   "execution_count": 41,
   "id": "1a4b723c",
   "metadata": {
    "scrolled": true
   },
   "outputs": [
    {
     "name": "stdout",
     "output_type": "stream",
     "text": [
      "login success!\n",
      "logout success!\n",
      "文件已保存到E:/data/stock_data/603019_d.csv\n"
     ]
    }
   ],
   "source": [
    "GD = Get_data_from_baostock('603019','2020-01-01','2023-01-01','d','2')\n",
    "data = GD.download_data_from_baostock()\n",
    "address = 'E:/data/stock_data/'\n",
    "GD.save_baostock_data_to_local(address)"
   ]
  },
  {
   "cell_type": "code",
   "execution_count": 42,
   "id": "8027e30d",
   "metadata": {},
   "outputs": [
    {
     "data": {
      "text/html": [
       "<div>\n",
       "<style scoped>\n",
       "    .dataframe tbody tr th:only-of-type {\n",
       "        vertical-align: middle;\n",
       "    }\n",
       "\n",
       "    .dataframe tbody tr th {\n",
       "        vertical-align: top;\n",
       "    }\n",
       "\n",
       "    .dataframe thead th {\n",
       "        text-align: right;\n",
       "    }\n",
       "</style>\n",
       "<table border=\"1\" class=\"dataframe\">\n",
       "  <thead>\n",
       "    <tr style=\"text-align: right;\">\n",
       "      <th></th>\n",
       "      <th>open</th>\n",
       "      <th>high</th>\n",
       "      <th>low</th>\n",
       "      <th>close</th>\n",
       "      <th>amount</th>\n",
       "      <th>volume</th>\n",
       "    </tr>\n",
       "    <tr>\n",
       "      <th>datetime</th>\n",
       "      <th></th>\n",
       "      <th></th>\n",
       "      <th></th>\n",
       "      <th></th>\n",
       "      <th></th>\n",
       "      <th></th>\n",
       "    </tr>\n",
       "  </thead>\n",
       "  <tbody>\n",
       "    <tr>\n",
       "      <th>2020-01-02</th>\n",
       "      <td>24.643395</td>\n",
       "      <td>25.101058</td>\n",
       "      <td>24.502576</td>\n",
       "      <td>25.023607</td>\n",
       "      <td>8.835135e+08</td>\n",
       "      <td>24988392.0</td>\n",
       "    </tr>\n",
       "    <tr>\n",
       "      <th>2020-01-03</th>\n",
       "      <td>25.051771</td>\n",
       "      <td>25.178509</td>\n",
       "      <td>24.784214</td>\n",
       "      <td>25.150345</td>\n",
       "      <td>7.629039e+08</td>\n",
       "      <td>21478143.0</td>\n",
       "    </tr>\n",
       "    <tr>\n",
       "      <th>2020-01-06</th>\n",
       "      <td>24.960239</td>\n",
       "      <td>25.530557</td>\n",
       "      <td>24.840542</td>\n",
       "      <td>25.291164</td>\n",
       "      <td>1.031647e+09</td>\n",
       "      <td>28757030.0</td>\n",
       "    </tr>\n",
       "    <tr>\n",
       "      <th>2020-01-07</th>\n",
       "      <td>25.305246</td>\n",
       "      <td>25.530557</td>\n",
       "      <td>25.094017</td>\n",
       "      <td>25.523516</td>\n",
       "      <td>8.833146e+08</td>\n",
       "      <td>24522403.0</td>\n",
       "    </tr>\n",
       "    <tr>\n",
       "      <th>2020-01-08</th>\n",
       "      <td>25.354533</td>\n",
       "      <td>26.354351</td>\n",
       "      <td>25.284123</td>\n",
       "      <td>25.608008</td>\n",
       "      <td>1.539546e+09</td>\n",
       "      <td>42172080.0</td>\n",
       "    </tr>\n",
       "  </tbody>\n",
       "</table>\n",
       "</div>"
      ],
      "text/plain": [
       "                 open       high        low      close        amount   \n",
       "datetime                                                               \n",
       "2020-01-02  24.643395  25.101058  24.502576  25.023607  8.835135e+08  \\\n",
       "2020-01-03  25.051771  25.178509  24.784214  25.150345  7.629039e+08   \n",
       "2020-01-06  24.960239  25.530557  24.840542  25.291164  1.031647e+09   \n",
       "2020-01-07  25.305246  25.530557  25.094017  25.523516  8.833146e+08   \n",
       "2020-01-08  25.354533  26.354351  25.284123  25.608008  1.539546e+09   \n",
       "\n",
       "                volume  \n",
       "datetime                \n",
       "2020-01-02  24988392.0  \n",
       "2020-01-03  21478143.0  \n",
       "2020-01-06  28757030.0  \n",
       "2020-01-07  24522403.0  \n",
       "2020-01-08  42172080.0  "
      ]
     },
     "execution_count": 42,
     "metadata": {},
     "output_type": "execute_result"
    }
   ],
   "source": [
    "data.head()"
   ]
  },
  {
   "cell_type": "markdown",
   "id": "580eff0e",
   "metadata": {},
   "source": [
    "# 2.双均线策略"
   ]
  },
  {
   "cell_type": "code",
   "execution_count": 43,
   "id": "692cf7b4",
   "metadata": {},
   "outputs": [
    {
     "data": {
      "text/html": [
       "<div>\n",
       "<style scoped>\n",
       "    .dataframe tbody tr th:only-of-type {\n",
       "        vertical-align: middle;\n",
       "    }\n",
       "\n",
       "    .dataframe tbody tr th {\n",
       "        vertical-align: top;\n",
       "    }\n",
       "\n",
       "    .dataframe thead th {\n",
       "        text-align: right;\n",
       "    }\n",
       "</style>\n",
       "<table border=\"1\" class=\"dataframe\">\n",
       "  <thead>\n",
       "    <tr style=\"text-align: right;\">\n",
       "      <th></th>\n",
       "      <th>open</th>\n",
       "      <th>close</th>\n",
       "      <th>high</th>\n",
       "      <th>low</th>\n",
       "      <th>ma5</th>\n",
       "      <th>ma30</th>\n",
       "    </tr>\n",
       "    <tr>\n",
       "      <th>datetime</th>\n",
       "      <th></th>\n",
       "      <th></th>\n",
       "      <th></th>\n",
       "      <th></th>\n",
       "      <th></th>\n",
       "      <th></th>\n",
       "    </tr>\n",
       "  </thead>\n",
       "  <tbody>\n",
       "    <tr>\n",
       "      <th>2022-12-19</th>\n",
       "      <td>22.72</td>\n",
       "      <td>22.52</td>\n",
       "      <td>22.92</td>\n",
       "      <td>22.35</td>\n",
       "      <td>23.184</td>\n",
       "      <td>24.031667</td>\n",
       "    </tr>\n",
       "    <tr>\n",
       "      <th>2022-12-20</th>\n",
       "      <td>22.58</td>\n",
       "      <td>22.18</td>\n",
       "      <td>22.75</td>\n",
       "      <td>22.07</td>\n",
       "      <td>22.972</td>\n",
       "      <td>23.965667</td>\n",
       "    </tr>\n",
       "    <tr>\n",
       "      <th>2022-12-21</th>\n",
       "      <td>22.19</td>\n",
       "      <td>22.01</td>\n",
       "      <td>22.28</td>\n",
       "      <td>21.83</td>\n",
       "      <td>22.760</td>\n",
       "      <td>23.869000</td>\n",
       "    </tr>\n",
       "    <tr>\n",
       "      <th>2022-12-22</th>\n",
       "      <td>22.20</td>\n",
       "      <td>21.93</td>\n",
       "      <td>22.24</td>\n",
       "      <td>21.78</td>\n",
       "      <td>22.572</td>\n",
       "      <td>23.802667</td>\n",
       "    </tr>\n",
       "    <tr>\n",
       "      <th>2022-12-23</th>\n",
       "      <td>21.90</td>\n",
       "      <td>21.88</td>\n",
       "      <td>22.00</td>\n",
       "      <td>21.67</td>\n",
       "      <td>22.318</td>\n",
       "      <td>23.709333</td>\n",
       "    </tr>\n",
       "    <tr>\n",
       "      <th>2022-12-26</th>\n",
       "      <td>21.89</td>\n",
       "      <td>22.10</td>\n",
       "      <td>22.28</td>\n",
       "      <td>21.88</td>\n",
       "      <td>22.152</td>\n",
       "      <td>23.632333</td>\n",
       "    </tr>\n",
       "    <tr>\n",
       "      <th>2022-12-27</th>\n",
       "      <td>22.18</td>\n",
       "      <td>22.26</td>\n",
       "      <td>22.27</td>\n",
       "      <td>21.92</td>\n",
       "      <td>22.072</td>\n",
       "      <td>23.567667</td>\n",
       "    </tr>\n",
       "    <tr>\n",
       "      <th>2022-12-28</th>\n",
       "      <td>22.15</td>\n",
       "      <td>21.86</td>\n",
       "      <td>22.15</td>\n",
       "      <td>21.82</td>\n",
       "      <td>22.064</td>\n",
       "      <td>23.479000</td>\n",
       "    </tr>\n",
       "    <tr>\n",
       "      <th>2022-12-29</th>\n",
       "      <td>21.74</td>\n",
       "      <td>21.89</td>\n",
       "      <td>22.15</td>\n",
       "      <td>21.72</td>\n",
       "      <td>21.972</td>\n",
       "      <td>23.382000</td>\n",
       "    </tr>\n",
       "    <tr>\n",
       "      <th>2022-12-30</th>\n",
       "      <td>22.05</td>\n",
       "      <td>22.14</td>\n",
       "      <td>22.22</td>\n",
       "      <td>21.95</td>\n",
       "      <td>22.002</td>\n",
       "      <td>23.265000</td>\n",
       "    </tr>\n",
       "  </tbody>\n",
       "</table>\n",
       "</div>"
      ],
      "text/plain": [
       "             open  close   high    low     ma5       ma30\n",
       "datetime                                                 \n",
       "2022-12-19  22.72  22.52  22.92  22.35  23.184  24.031667\n",
       "2022-12-20  22.58  22.18  22.75  22.07  22.972  23.965667\n",
       "2022-12-21  22.19  22.01  22.28  21.83  22.760  23.869000\n",
       "2022-12-22  22.20  21.93  22.24  21.78  22.572  23.802667\n",
       "2022-12-23  21.90  21.88  22.00  21.67  22.318  23.709333\n",
       "2022-12-26  21.89  22.10  22.28  21.88  22.152  23.632333\n",
       "2022-12-27  22.18  22.26  22.27  21.92  22.072  23.567667\n",
       "2022-12-28  22.15  21.86  22.15  21.82  22.064  23.479000\n",
       "2022-12-29  21.74  21.89  22.15  21.72  21.972  23.382000\n",
       "2022-12-30  22.05  22.14  22.22  21.95  22.002  23.265000"
      ]
     },
     "execution_count": 43,
     "metadata": {},
     "output_type": "execute_result"
    }
   ],
   "source": [
    "data = data.loc[:,['open','close','high','low']]\n",
    "data['ma5'] = data['open'].rolling(5).mean()\n",
    "data['ma30'] = data['open'].rolling(30).mean()  \n",
    "# 用rolling构建ma \n",
    "# 用open不用close是因为当天是看不到当头的收盘价的，只能用开盘价来预估金叉死叉\n",
    "data.tail(10)"
   ]
  },
  {
   "cell_type": "code",
   "execution_count": 44,
   "id": "55f1a6dd",
   "metadata": {
    "scrolled": false
   },
   "outputs": [
    {
     "data": {
      "image/png": "[encoded data removed]",
      "text/plain": [
       "<Figure size 640x480 with 1 Axes>"
      ]
     },
     "metadata": {},
     "output_type": "display_data"
    }
   ],
   "source": [
    "import matplotlib.pyplot as plt\n",
    "data.loc[:,['close','ma5','ma30']].plot()\n",
    "plt.show()"
   ]
  },
  {
   "cell_type": "code",
   "execution_count": 45,
   "id": "2b079620",
   "metadata": {},
   "outputs": [],
   "source": [
    "data = data.dropna()"
   ]
  },
  {
   "cell_type": "code",
   "execution_count": 46,
   "id": "8ecb3239",
   "metadata": {},
   "outputs": [
    {
     "data": {
      "text/plain": [
       "DatetimeIndex(['2020-03-11', '2020-03-24', '2020-04-15', '2020-04-28',\n",
       "               '2020-06-11', '2020-07-29', '2020-08-13', '2020-09-04',\n",
       "               '2021-01-27', '2021-04-13', '2021-04-27', '2021-07-05',\n",
       "               '2021-08-18', '2021-12-01', '2022-03-11', '2022-03-24',\n",
       "               '2022-07-13', '2022-08-19', '2022-11-29'],\n",
       "              dtype='datetime64[ns]', name='datetime', freq=None)"
      ]
     },
     "execution_count": 46,
     "metadata": {},
     "output_type": "execute_result"
    }
   ],
   "source": [
    "# 计算金叉和死叉日期\n",
    "# 以金叉为例子：金叉为ma5上穿ma30,data['ma5']<data['ma30']会有一段类似TTTTFFFFTTTT，\n",
    "# 而data['ma5']>data['ma30']会有一段对应FFFFTTTTFFFF,此时把后面的序列shift1位，与第一序列相同的位置F即为金叉，T即为死叉\n",
    "# TTTTFFFFTTTT\n",
    "#  FFFFTTTTFFFF\n",
    "sr1 = data['ma5'] < data['ma30']\n",
    "sr2 = data['ma5'] >= data['ma30']\n",
    "death_cross =  data[sr1 & sr2.shift(1)].index # &两个同时T才会是T,所以这个选的是死叉\n",
    "death_cross"
   ]
  },
  {
   "cell_type": "code",
   "execution_count": 47,
   "id": "4eb25a52",
   "metadata": {
    "scrolled": true
   },
   "outputs": [
    {
     "data": {
      "text/plain": [
       "DatetimeIndex(['2020-02-20', '2020-03-20', '2020-04-09', '2020-04-21',\n",
       "               '2020-05-06', '2020-06-17', '2020-08-04', '2020-08-27',\n",
       "               '2021-01-06', '2021-04-09', '2021-04-22', '2021-05-31',\n",
       "               '2021-07-13', '2021-11-04', '2022-01-06', '2022-03-18',\n",
       "               '2022-06-08', '2022-07-27', '2022-11-01'],\n",
       "              dtype='datetime64[ns]', name='datetime', freq=None)"
      ]
     },
     "execution_count": 47,
     "metadata": {},
     "output_type": "execute_result"
    }
   ],
   "source": [
    "golden_cross = data[~(sr1| sr2.shift(1))].index # or两个同时F才会是F,所以这个选的是金叉\n",
    "golden_cross"
   ]
  },
  {
   "cell_type": "markdown",
   "id": "27a101a5",
   "metadata": {},
   "source": [
    "# 3.回测\n",
    "假设在金叉全部买入，死叉全部卖出。这里不考虑其他规定(如要买/卖的数量是100的倍数，买/卖所收的手续费等等)，粗略计算一下这个策略在2022-01-01到2023-01-01的收益情况。"
   ]
  },
  {
   "cell_type": "code",
   "execution_count": 48,
   "id": "c4fe9971",
   "metadata": {
    "collapsed": true
   },
   "outputs": [
    {
     "data": {
      "text/plain": [
       "datetime\n",
       "2020-02-20    1\n",
       "2020-03-11    0\n",
       "2020-03-20    1\n",
       "2020-03-24    0\n",
       "2020-04-09    1\n",
       "2020-04-15    0\n",
       "2020-04-21    1\n",
       "2020-04-28    0\n",
       "2020-05-06    1\n",
       "2020-06-11    0\n",
       "2020-06-17    1\n",
       "2020-07-29    0\n",
       "2020-08-04    1\n",
       "2020-08-13    0\n",
       "2020-08-27    1\n",
       "2020-09-04    0\n",
       "2021-01-06    1\n",
       "2021-01-27    0\n",
       "2021-04-09    1\n",
       "2021-04-13    0\n",
       "2021-04-22    1\n",
       "2021-04-27    0\n",
       "2021-05-31    1\n",
       "2021-07-05    0\n",
       "2021-07-13    1\n",
       "2021-08-18    0\n",
       "2021-11-04    1\n",
       "2021-12-01    0\n",
       "2022-01-06    1\n",
       "2022-03-11    0\n",
       "2022-03-18    1\n",
       "2022-03-24    0\n",
       "2022-06-08    1\n",
       "2022-07-13    0\n",
       "2022-07-27    1\n",
       "2022-08-19    0\n",
       "2022-11-01    1\n",
       "2022-11-29    0\n",
       "dtype: int64"
      ]
     },
     "execution_count": 48,
     "metadata": {},
     "output_type": "execute_result"
    }
   ],
   "source": [
    "SR1 = pd.Series(1, index=golden_cross)\n",
    "SR2 = pd.Series(0, index=death_cross)\n",
    "SR = pd.concat([SR1,SR2],axis =0).sort_index()\n",
    "SR"
   ]
  },
  {
   "cell_type": "code",
   "execution_count": 49,
   "id": "e4666b4b",
   "metadata": {},
   "outputs": [
    {
     "name": "stdout",
     "output_type": "stream",
     "text": [
      "-37344.44289799999\n"
     ]
    }
   ],
   "source": [
    "first_money = 100000\n",
    "money = first_money\n",
    "hold = 0\n",
    "\n",
    "for i in range(0,len(SR)):\n",
    "    p = data['open'][SR.index[i]]\n",
    "    if SR.iloc[i] == 1:\n",
    "        buy = (money // (100 * p))\n",
    "        hold += buy*100\n",
    "        money -= buy*100*p\n",
    "    else:\n",
    "        money += hold * p\n",
    "        hold = 0\n",
    "        \n",
    "p = data['open'][-1]\n",
    "now_money = hold * p + money   \n",
    "\n",
    "print(now_money - first_money)"
   ]
  },
  {
   "cell_type": "code",
   "execution_count": null,
   "id": "17517ca2",
   "metadata": {},
   "outputs": [],
   "source": []
  }
 ],
 "metadata": {
  "kernelspec": {
   "display_name": "py3.10",
   "language": "python",
   "name": "py3.10"
  },
  "language_info": {
   "codemirror_mode": {
    "name": "ipython",
    "version": 3
   },
   "file_extension": ".py",
   "mimetype": "text/x-python",
   "name": "python",
   "nbconvert_exporter": "python",
   "pygments_lexer": "ipython3",
   "version": "3.10.10"
  },
  "nbTranslate": {
   "displayLangs": [
    "*"
   ],
   "hotkey": "alt-t",
   "langInMainMenu": true,
   "sourceLang": "en",
   "targetLang": "fr",
   "useGoogleTranslate": true
  }
 },
 "nbformat": 4,
 "nbformat_minor": 5
}
