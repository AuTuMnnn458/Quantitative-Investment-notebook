{
 "cells": [
  {
   "cell_type": "markdown",
   "id": "b0551862",
   "metadata": {},
   "source": [
    "# 双均线策略\n",
    "本文主要介绍使用双均线策略对股票代号为600036的股票进行买入/卖出。步骤如下：\n",
    "* 1.从Baostock上下载数据，清洗数据并存入本地\n",
    "* 2.编写双均线策略\n",
    "* 3.使用策略进行回测\n",
    "\n",
    "### 参考：\n",
    "* baostock数据的获取 http://baostock.com/baostock/index.php/A%E8%82%A1K%E7%BA%BF%E6%95%B0%E6%8D%AE\n",
    "* 算法教学 (1).https://www.bilibili.com/video/BV1da4y1H7WL\n",
    "* (2).https://www.bilibili.com/video/BV1i741147LS"
   ]
  },
  {
   "cell_type": "markdown",
   "id": "bb3acabe",
   "metadata": {},
   "source": [
    "# 1.数据预处理"
   ]
  },
  {
   "cell_type": "code",
   "execution_count": 151,
   "id": "99b64654",
   "metadata": {
    "scrolled": true
   },
   "outputs": [],
   "source": [
    "import baostock as bs\n",
    "import pandas as pd"
   ]
  },
  {
   "cell_type": "code",
   "execution_count": 152,
   "id": "e262b235",
   "metadata": {},
   "outputs": [],
   "source": [
    "class Get_data_from_baostock:\n",
    "    \n",
    "    def __init__(self, stock, start_date, end_date, freq, adjustflag):\n",
    "        self.stock = stock\n",
    "        self.start_date = start_date\n",
    "        self.end_date = end_date\n",
    "        self.freq = freq\n",
    "        self.adjustflag = adjustflag\n",
    "    \n",
    "    def download_data_from_baostock(self):\n",
    "        lg = bs.login()\n",
    "        if str(self.stock)[0] == '6':\n",
    "            stock_name = 'sh.' + str(self.stock)\n",
    "        else:\n",
    "            stock_name = 'sz.' + str(self.stock)\n",
    "        \n",
    "        if self.freq in ['d', 'w', 'm']:\n",
    "            fields = \"date,code,open,high,low,close,preclose,volume,amount,adjustflag,turn,tradestatus,pctChg,isST\"\n",
    "        else:\n",
    "            fields = \"date,time,code,open,high,low,close,volume,amount,adjustflag\"\n",
    "        \n",
    "        rs = bs.query_history_k_data_plus(stock_name,\n",
    "                                      fields,\n",
    "                                      start_date = self.start_date, \n",
    "                                      end_date = self.end_date,\n",
    "                                      frequency = str(self.freq), \n",
    "                                      adjustflag = str(self.adjustflag) # 2是前复权\n",
    "                                     )\n",
    "        bs.logout()\n",
    "        \n",
    "        df = pd.DataFrame(rs.data)\n",
    "        df.columns = fields.split(',')\n",
    "        \n",
    "        df['open'] = [float(t) for t in df['open']]\n",
    "        df['close'] = [float(t) for t in df['close']]\n",
    "        df['high'] = [float(t) for t in df['high']]\n",
    "        df['low'] = [float(t) for t in df['low']]  \n",
    "        df['amount'] = [float(t) for t in df['amount']]\n",
    "        df['volume'] = [float(t) for t in df['volume']]\n",
    "        \n",
    "        \n",
    "        if self.freq in ['5','15','30','60']:\n",
    "            df['time'] = [t[:-3] for t in df['time']] # 把毫秒去掉，否则int太长了无法转化为datatime格式\n",
    "            df['time'] = pd.to_datetime(df['time'])\n",
    "            df = df.loc[:, ['time','open','high','low','close','amount','volume']]\n",
    "            df.rename(columns = {'time':'datetime'},inplace = True)\n",
    "            df.set_index('datetime', drop=True, inplace = True) # 用时间作为index\n",
    "        elif self.freq in ['d', 'w', 'm']:\n",
    "            df = df.loc[:, ['date','open','high','low','close','amount','volume']]\n",
    "            df['date'] = pd.to_datetime(df['date'])\n",
    "            df.rename(columns = {'date':'datetime'},inplace = True)\n",
    "            df.set_index('datetime', drop=True, inplace = True) # 用时间作为index\n",
    "        else:\n",
    "            print('k线时间输入错误')\n",
    "            \n",
    "        self.df = df\n",
    "        return df\n",
    "    \n",
    "    def save_baostock_data_to_local(self,address):\n",
    "        self.df.to_csv(address + '%s_%s.csv' % (self.stock,self.freq))\n",
    "        print('文件已保存到'+ address + '%s_%s.csv' % (self.stock,self.freq))\n",
    "        "
   ]
  },
  {
   "cell_type": "code",
   "execution_count": 160,
   "id": "1a4b723c",
   "metadata": {
    "scrolled": true
   },
   "outputs": [
    {
     "name": "stdout",
     "output_type": "stream",
     "text": [
      "login success!\n",
      "logout success!\n",
      "文件已保存到E:/data/stock_data/603019_d.csv\n"
     ]
    }
   ],
   "source": [
    "GD = Get_data_from_baostock('603019','2022-01-01','2023-01-01','d','2')\n",
    "data = GD.download_data_from_baostock()\n",
    "address = 'E:/data/stock_data/'\n",
    "GD.save_baostock_data_to_local(address)"
   ]
  },
  {
   "cell_type": "code",
   "execution_count": 161,
   "id": "8027e30d",
   "metadata": {},
   "outputs": [
    {
     "data": {
      "text/html": [
       "<div>\n",
       "<style scoped>\n",
       "    .dataframe tbody tr th:only-of-type {\n",
       "        vertical-align: middle;\n",
       "    }\n",
       "\n",
       "    .dataframe tbody tr th {\n",
       "        vertical-align: top;\n",
       "    }\n",
       "\n",
       "    .dataframe thead th {\n",
       "        text-align: right;\n",
       "    }\n",
       "</style>\n",
       "<table border=\"1\" class=\"dataframe\">\n",
       "  <thead>\n",
       "    <tr style=\"text-align: right;\">\n",
       "      <th></th>\n",
       "      <th>open</th>\n",
       "      <th>high</th>\n",
       "      <th>low</th>\n",
       "      <th>close</th>\n",
       "      <th>amount</th>\n",
       "      <th>volume</th>\n",
       "    </tr>\n",
       "    <tr>\n",
       "      <th>datetime</th>\n",
       "      <th></th>\n",
       "      <th></th>\n",
       "      <th></th>\n",
       "      <th></th>\n",
       "      <th></th>\n",
       "      <th></th>\n",
       "    </tr>\n",
       "  </thead>\n",
       "  <tbody>\n",
       "    <tr>\n",
       "      <th>2022-01-04</th>\n",
       "      <td>27.495485</td>\n",
       "      <td>28.568674</td>\n",
       "      <td>27.475611</td>\n",
       "      <td>28.548800</td>\n",
       "      <td>9.918807e+08</td>\n",
       "      <td>35033571.0</td>\n",
       "    </tr>\n",
       "    <tr>\n",
       "      <th>2022-01-05</th>\n",
       "      <td>28.389809</td>\n",
       "      <td>28.807160</td>\n",
       "      <td>28.320251</td>\n",
       "      <td>28.399746</td>\n",
       "      <td>7.410378e+08</td>\n",
       "      <td>25797381.0</td>\n",
       "    </tr>\n",
       "    <tr>\n",
       "      <th>2022-01-06</th>\n",
       "      <td>28.240755</td>\n",
       "      <td>28.916466</td>\n",
       "      <td>28.012206</td>\n",
       "      <td>28.737602</td>\n",
       "      <td>6.856710e+08</td>\n",
       "      <td>23855766.0</td>\n",
       "    </tr>\n",
       "    <tr>\n",
       "      <th>2022-01-07</th>\n",
       "      <td>28.807160</td>\n",
       "      <td>28.986025</td>\n",
       "      <td>28.022143</td>\n",
       "      <td>28.051953</td>\n",
       "      <td>5.365614e+08</td>\n",
       "      <td>18751424.0</td>\n",
       "    </tr>\n",
       "    <tr>\n",
       "      <th>2022-01-10</th>\n",
       "      <td>28.051953</td>\n",
       "      <td>30.784609</td>\n",
       "      <td>28.032080</td>\n",
       "      <td>30.267889</td>\n",
       "      <td>2.346896e+09</td>\n",
       "      <td>78006464.0</td>\n",
       "    </tr>\n",
       "  </tbody>\n",
       "</table>\n",
       "</div>"
      ],
      "text/plain": [
       "                 open       high        low      close        amount   \n",
       "datetime                                                               \n",
       "2022-01-04  27.495485  28.568674  27.475611  28.548800  9.918807e+08  \\\n",
       "2022-01-05  28.389809  28.807160  28.320251  28.399746  7.410378e+08   \n",
       "2022-01-06  28.240755  28.916466  28.012206  28.737602  6.856710e+08   \n",
       "2022-01-07  28.807160  28.986025  28.022143  28.051953  5.365614e+08   \n",
       "2022-01-10  28.051953  30.784609  28.032080  30.267889  2.346896e+09   \n",
       "\n",
       "                volume  \n",
       "datetime                \n",
       "2022-01-04  35033571.0  \n",
       "2022-01-05  25797381.0  \n",
       "2022-01-06  23855766.0  \n",
       "2022-01-07  18751424.0  \n",
       "2022-01-10  78006464.0  "
      ]
     },
     "execution_count": 161,
     "metadata": {},
     "output_type": "execute_result"
    }
   ],
   "source": [
    "data.head()"
   ]
  },
  {
   "cell_type": "markdown",
   "id": "580eff0e",
   "metadata": {},
   "source": [
    "# 2.双均线策略"
   ]
  },
  {
   "cell_type": "code",
   "execution_count": 162,
   "id": "692cf7b4",
   "metadata": {},
   "outputs": [
    {
     "data": {
      "text/html": [
       "<div>\n",
       "<style scoped>\n",
       "    .dataframe tbody tr th:only-of-type {\n",
       "        vertical-align: middle;\n",
       "    }\n",
       "\n",
       "    .dataframe tbody tr th {\n",
       "        vertical-align: top;\n",
       "    }\n",
       "\n",
       "    .dataframe thead th {\n",
       "        text-align: right;\n",
       "    }\n",
       "</style>\n",
       "<table border=\"1\" class=\"dataframe\">\n",
       "  <thead>\n",
       "    <tr style=\"text-align: right;\">\n",
       "      <th></th>\n",
       "      <th>open</th>\n",
       "      <th>close</th>\n",
       "      <th>high</th>\n",
       "      <th>low</th>\n",
       "      <th>ma5</th>\n",
       "      <th>ma30</th>\n",
       "    </tr>\n",
       "    <tr>\n",
       "      <th>datetime</th>\n",
       "      <th></th>\n",
       "      <th></th>\n",
       "      <th></th>\n",
       "      <th></th>\n",
       "      <th></th>\n",
       "      <th></th>\n",
       "    </tr>\n",
       "  </thead>\n",
       "  <tbody>\n",
       "    <tr>\n",
       "      <th>2022-12-19</th>\n",
       "      <td>22.72</td>\n",
       "      <td>22.52</td>\n",
       "      <td>22.92</td>\n",
       "      <td>22.35</td>\n",
       "      <td>22.978</td>\n",
       "      <td>23.992000</td>\n",
       "    </tr>\n",
       "    <tr>\n",
       "      <th>2022-12-20</th>\n",
       "      <td>22.58</td>\n",
       "      <td>22.18</td>\n",
       "      <td>22.75</td>\n",
       "      <td>22.07</td>\n",
       "      <td>22.796</td>\n",
       "      <td>23.898000</td>\n",
       "    </tr>\n",
       "    <tr>\n",
       "      <th>2022-12-21</th>\n",
       "      <td>22.19</td>\n",
       "      <td>22.01</td>\n",
       "      <td>22.28</td>\n",
       "      <td>21.83</td>\n",
       "      <td>22.552</td>\n",
       "      <td>23.819667</td>\n",
       "    </tr>\n",
       "    <tr>\n",
       "      <th>2022-12-22</th>\n",
       "      <td>22.20</td>\n",
       "      <td>21.93</td>\n",
       "      <td>22.24</td>\n",
       "      <td>21.78</td>\n",
       "      <td>22.272</td>\n",
       "      <td>23.743667</td>\n",
       "    </tr>\n",
       "    <tr>\n",
       "      <th>2022-12-23</th>\n",
       "      <td>21.90</td>\n",
       "      <td>21.88</td>\n",
       "      <td>22.00</td>\n",
       "      <td>21.67</td>\n",
       "      <td>22.104</td>\n",
       "      <td>23.666667</td>\n",
       "    </tr>\n",
       "    <tr>\n",
       "      <th>2022-12-26</th>\n",
       "      <td>21.89</td>\n",
       "      <td>22.10</td>\n",
       "      <td>22.28</td>\n",
       "      <td>21.88</td>\n",
       "      <td>22.020</td>\n",
       "      <td>23.592667</td>\n",
       "    </tr>\n",
       "    <tr>\n",
       "      <th>2022-12-27</th>\n",
       "      <td>22.18</td>\n",
       "      <td>22.26</td>\n",
       "      <td>22.27</td>\n",
       "      <td>21.92</td>\n",
       "      <td>22.036</td>\n",
       "      <td>23.509667</td>\n",
       "    </tr>\n",
       "    <tr>\n",
       "      <th>2022-12-28</th>\n",
       "      <td>22.15</td>\n",
       "      <td>21.86</td>\n",
       "      <td>22.15</td>\n",
       "      <td>21.82</td>\n",
       "      <td>22.006</td>\n",
       "      <td>23.420333</td>\n",
       "    </tr>\n",
       "    <tr>\n",
       "      <th>2022-12-29</th>\n",
       "      <td>21.74</td>\n",
       "      <td>21.89</td>\n",
       "      <td>22.15</td>\n",
       "      <td>21.72</td>\n",
       "      <td>21.998</td>\n",
       "      <td>23.300000</td>\n",
       "    </tr>\n",
       "    <tr>\n",
       "      <th>2022-12-30</th>\n",
       "      <td>22.05</td>\n",
       "      <td>22.14</td>\n",
       "      <td>22.22</td>\n",
       "      <td>21.95</td>\n",
       "      <td>22.050</td>\n",
       "      <td>23.197667</td>\n",
       "    </tr>\n",
       "  </tbody>\n",
       "</table>\n",
       "</div>"
      ],
      "text/plain": [
       "             open  close   high    low     ma5       ma30\n",
       "datetime                                                 \n",
       "2022-12-19  22.72  22.52  22.92  22.35  22.978  23.992000\n",
       "2022-12-20  22.58  22.18  22.75  22.07  22.796  23.898000\n",
       "2022-12-21  22.19  22.01  22.28  21.83  22.552  23.819667\n",
       "2022-12-22  22.20  21.93  22.24  21.78  22.272  23.743667\n",
       "2022-12-23  21.90  21.88  22.00  21.67  22.104  23.666667\n",
       "2022-12-26  21.89  22.10  22.28  21.88  22.020  23.592667\n",
       "2022-12-27  22.18  22.26  22.27  21.92  22.036  23.509667\n",
       "2022-12-28  22.15  21.86  22.15  21.82  22.006  23.420333\n",
       "2022-12-29  21.74  21.89  22.15  21.72  21.998  23.300000\n",
       "2022-12-30  22.05  22.14  22.22  21.95  22.050  23.197667"
      ]
     },
     "execution_count": 162,
     "metadata": {},
     "output_type": "execute_result"
    }
   ],
   "source": [
    "data = data.loc[:,['open','close','high','low']]\n",
    "data['ma5'] = data['close'].rolling(5).mean()\n",
    "data['ma30'] = data['close'].rolling(30).mean()  \n",
    "# 用rolling构建ma\n",
    "data.tail(10)"
   ]
  },
  {
   "cell_type": "code",
   "execution_count": 163,
   "id": "55f1a6dd",
   "metadata": {
    "scrolled": false
   },
   "outputs": [
    {
     "data": {
      "image/png": "[encoded data removed]",
      "text/plain": [
       "<Figure size 640x480 with 1 Axes>"
      ]
     },
     "metadata": {},
     "output_type": "display_data"
    }
   ],
   "source": [
    "import matplotlib.pyplot as plt\n",
    "data.loc[:,['close','ma5','ma30']].plot()\n",
    "plt.show()"
   ]
  },
  {
   "cell_type": "code",
   "execution_count": 164,
   "id": "2b079620",
   "metadata": {},
   "outputs": [],
   "source": [
    "data = data.dropna()"
   ]
  },
  {
   "cell_type": "code",
   "execution_count": 165,
   "id": "8ecb3239",
   "metadata": {},
   "outputs": [
    {
     "data": {
      "text/plain": [
       "DatetimeIndex(['2022-03-10', '2022-03-21', '2022-03-23', '2022-07-12',\n",
       "               '2022-08-19', '2022-11-28'],\n",
       "              dtype='datetime64[ns]', name='datetime', freq=None)"
      ]
     },
     "execution_count": 165,
     "metadata": {},
     "output_type": "execute_result"
    }
   ],
   "source": [
    "# 计算金叉和死叉日期\n",
    "# 以金叉为例子：金叉为ma5上穿ma30,data['ma5']<data['ma30']会有一段类似TTTTFFFFTTTT，\n",
    "# 而data['ma5']>data['ma30']会有一段对应FFFFTTTTFFFF,此时把后面的序列shift1位，与第一序列相同的位置F即为金叉，T即为死叉\n",
    "# TTTTFFFFTTTT\n",
    "#  FFFFTTTTFFFF\n",
    "sr1 = data['ma5'] < data['ma30']\n",
    "sr2 = data['ma5'] >= data['ma30']\n",
    "death_cross =  data[sr1 & sr2.shift(1)].index # &两个同时T才会是T,所以这个选的是死叉\n",
    "death_cross"
   ]
  },
  {
   "cell_type": "code",
   "execution_count": 166,
   "id": "4eb25a52",
   "metadata": {
    "scrolled": true
   },
   "outputs": [
    {
     "data": {
      "text/plain": [
       "DatetimeIndex(['2022-02-21', '2022-03-16', '2022-03-22', '2022-06-07',\n",
       "               '2022-07-27', '2022-10-31'],\n",
       "              dtype='datetime64[ns]', name='datetime', freq=None)"
      ]
     },
     "execution_count": 166,
     "metadata": {},
     "output_type": "execute_result"
    }
   ],
   "source": [
    "golden_cross = data[~(sr1| sr2.shift(1))].index # or两个同时F才会是F,所以这个选的是金叉\n",
    "golden_cross"
   ]
  },
  {
   "cell_type": "code",
   "execution_count": null,
   "id": "28cb0095",
   "metadata": {},
   "outputs": [],
   "source": []
  }
 ],
 "metadata": {
  "kernelspec": {
   "display_name": "py3.10",
   "language": "python",
   "name": "py3.10"
  },
  "language_info": {
   "codemirror_mode": {
    "name": "ipython",
    "version": 3
   },
   "file_extension": ".py",
   "mimetype": "text/x-python",
   "name": "python",
   "nbconvert_exporter": "python",
   "pygments_lexer": "ipython3",
   "version": "3.10.10"
  },
  "nbTranslate": {
   "displayLangs": [
    "*"
   ],
   "hotkey": "alt-t",
   "langInMainMenu": true,
   "sourceLang": "en",
   "targetLang": "fr",
   "useGoogleTranslate": true
  }
 },
 "nbformat": 4,
 "nbformat_minor": 5
}
